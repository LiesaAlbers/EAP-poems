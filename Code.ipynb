{
 "cells": [
  {
   "cell_type": "markdown",
   "id": "30c50e32-c49c-437d-8abf-e28097e78b3d",
   "metadata": {},
   "source": [
    "# Web scraping "
   ]
  },
  {
   "cell_type": "code",
   "execution_count": 53,
   "id": "3476b201-36eb-4428-8871-518b02a9a9b9",
   "metadata": {},
   "outputs": [],
   "source": [
    "import pandas as pd\n",
    "import requests\n",
    "from bs4 import BeautifulSoup\n",
    "import re"
   ]
  },
  {
   "cell_type": "markdown",
   "id": "9b5de5eb-d749-4092-b669-1486d0ccbb66",
   "metadata": {},
   "source": [
    "### Extracting Text"
   ]
  },
  {
   "cell_type": "code",
   "execution_count": 55,
   "id": "acb9a47b-d160-4b3f-9930-97a477838d6d",
   "metadata": {},
   "outputs": [],
   "source": [
    "response = requests.get(\"https://poestories.com/poetry.php\")\n",
    "html_string = response.text"
   ]
  },
  {
   "cell_type": "code",
   "execution_count": 70,
   "id": "b5fa7662-cd9c-4d5c-bdb9-6e81879575c1",
   "metadata": {},
   "outputs": [
    {
     "name": "stdout",
     "output_type": "stream",
     "text": [
      "['\"Alone\"', '\"Annabel Lee\"', '\"The Bells\"', '\"The City in the Sea\"', '\"The Conqueror Worm\"', '\"Dream-Land\"', '\"A Dream Within A Dream\"', '\"Eldorado\"', '\"For Annie\"', '\"The Haunted Palace\"', '\"Lenore\"', '\"The Raven\"', '\"The Sleeper\"', '\"Sonnet - To Science\"', '\"Spirits of the Dead\"', '\"To The River\"', '\"A Valentine\"', '\"The Valley of Unrest\"']\n",
      "[' (1875) ', ' (1849) ', ' (1849) ', ' (1831) ', ' (1843) ', ' (1844) ', ' (1850) ', ' (1849) ', ' (1849) ', ' (1839) ', ' (1845) ', ' (1845) ', ' (1831) ', ' (1845) ', ' (1829) ', ' (1829) ', ' (1850) ', ' (1845) ']\n"
     ]
    }
   ],
   "source": [
    "document = BeautifulSoup(html_string, \"html.parser\")\n",
    "poem_title_tags = document.find_all('a')\n",
    "\n",
    "poem_titles = []\n",
    "publishing_dates = []\n",
    "for tag in poem_title_tags:\n",
    "    href = tag.get('href')\n",
    "    title = tag.text\n",
    "    date = tag.next_sibling\n",
    "    if href and title and href.startswith('/read/'):\n",
    "        poem_titles.append(title)\n",
    "        publishing_dates.append(date)\n",
    "\n",
    "print(poem_titles)\n",
    "print(publishing_dates)"
   ]
  },
  {
   "cell_type": "markdown",
   "id": "745ba0ea-7fca-4b84-80eb-74c0420e5861",
   "metadata": {},
   "source": [
    "### Cleaning Text"
   ]
  },
  {
   "cell_type": "code",
   "execution_count": 72,
   "id": "a3a56cef-f6a5-4083-a6cd-e7c0ee015a1a",
   "metadata": {},
   "outputs": [
    {
     "name": "stdout",
     "output_type": "stream",
     "text": [
      "['Alone', 'Annabel Lee', 'The Bells', 'The City in the Sea', 'The Conqueror Worm', 'DreamLand', 'A Dream Within A Dream', 'Eldorado', 'For Annie', 'The Haunted Palace', 'Lenore', 'The Raven', 'The Sleeper', 'Sonnet  To Science', 'Spirits of the Dead', 'To The River', 'A Valentine', 'The Valley of Unrest']\n",
      "['1875', '1849', '1849', '1831', '1843', '1844', '1850', '1849', '1849', '1839', '1845', '1845', '1831', '1845', '1829', '1829', '1850', '1845']\n"
     ]
    }
   ],
   "source": [
    "def remove_punc(text):\n",
    "    punctuation = '!@#$%^&*()_-+={}[]:;\"\\'|<>,.?/~`'\n",
    "    return ''.join(character for character in text\n",
    "                   if character not in punctuation)\n",
    "\n",
    "clean_poem_titles = [remove_punc(poem) for poem in poem_titles]\n",
    "clean_pub_dates = [remove_punc(date).strip() for date in publishing_dates]\n",
    "\n",
    "print(clean_poem_titles)\n",
    "print(clean_pub_dates)"
   ]
  },
  {
   "cell_type": "markdown",
   "id": "660d1bcf-a9f8-4f06-9084-61a01027cc7e",
   "metadata": {},
   "source": [
    "### Creating the Corpus"
   ]
  },
  {
   "cell_type": "code",
   "execution_count": 60,
   "id": "5a8d9b46-8279-4072-9b48-20b254cdb81f",
   "metadata": {},
   "outputs": [],
   "source": [
    "d = {'Poem Title':clean_poem_titles,'Publishing Year':clean_pub_dates}\n",
    "poems_df = pd.DataFrame(d)\n",
    "\n",
    "poems_df.to_csv('EAP_poems.csv')"
   ]
  }
 ],
 "metadata": {
  "kernelspec": {
   "display_name": "Python 3 (ipykernel)",
   "language": "python",
   "name": "python3"
  },
  "language_info": {
   "codemirror_mode": {
    "name": "ipython",
    "version": 3
   },
   "file_extension": ".py",
   "mimetype": "text/x-python",
   "name": "python",
   "nbconvert_exporter": "python",
   "pygments_lexer": "ipython3",
   "version": "3.12.4"
  }
 },
 "nbformat": 4,
 "nbformat_minor": 5
}
